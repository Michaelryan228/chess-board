{
 "cells": [
  {
   "cell_type": "code",
   "execution_count": 4,
   "source": [
    "import numpy as np\n",
    "import matplotlib.pyplot as plt"
   ],
   "outputs": [
    {
     "output_type": "stream",
     "name": "stderr",
     "text": [
      "Matplotlib is building the font cache; this may take a moment.\n"
     ]
    }
   ],
   "metadata": {}
  },
  {
   "cell_type": "code",
   "execution_count": 6,
   "source": [
    "class Board:\n",
    "  def __init__(self):\n",
    "      self.grid = np.zeros((8,8,3))\n",
    "\n",
    "  def add_red(self, row, col):\n",
    "      pass\n",
    "\n",
    "  def add_blue(self, row, col):\n",
    "      pass\n",
    "\n",
    "  def render(self):\n",
    "      # chess pattern\n",
    "      black = (0,0,0)\n",
    "      white = (1,1,1)\n",
    "\n",
    "      for i in range(8):\n",
    "          for j in range(8):\n",
    "              if i % 2 = 1:\n",
    "                  if j % 2 = 1:\n",
    "                        self.grid[i][j] = white\n",
    "                    else:\n",
    "                        self.grid[i][j] = black\n",
    "      plt.imshow(self.grid)\n",
    "\n",
    "  def is_under_attack(self):\n",
    "      pass"
   ],
   "outputs": [],
   "metadata": {}
  },
  {
   "cell_type": "code",
   "execution_count": 7,
   "source": [
    "trial = Board()\n",
    "trial.render()"
   ],
   "outputs": [
    {
     "output_type": "display_data",
     "data": {
      "text/plain": [
       "<Figure size 432x288 with 1 Axes>"
      ],
      "image/png": "[encoded data removed]"
     },
     "metadata": {
      "needs_background": "light"
     }
    }
   ],
   "metadata": {}
  },
  {
   "cell_type": "code",
   "execution_count": null,
   "source": [],
   "outputs": [],
   "metadata": {}
  }
 ],
 "metadata": {
  "language_info": {
   "name": "python",
   "nbconvert_exporter": "python"
  },
  "orig_nbformat": 4
 },
 "nbformat": 4,
 "nbformat_minor": 2
}